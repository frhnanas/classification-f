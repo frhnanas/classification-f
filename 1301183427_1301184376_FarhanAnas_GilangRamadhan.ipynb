{
  "nbformat": 4,
  "nbformat_minor": 0,
  "metadata": {
    "colab": {
      "name": "Classification_ML.ipynb",
      "provenance": [],
      "collapsed_sections": [],
      "toc_visible": true
    },
    "kernelspec": {
      "name": "python3",
      "display_name": "Python 3"
    },
    "language_info": {
      "name": "python"
    }
  },
  "cells": [
    {
      "cell_type": "markdown",
      "metadata": {
        "id": "ocsnlFRUeo4R"
      },
      "source": [
        "# Import Library"
      ]
    },
    {
      "cell_type": "code",
      "metadata": {
        "id": "zlWARqUZpHDu",
        "colab": {
          "base_uri": "https://localhost:8080/"
        },
        "outputId": "e088c91b-9492-4713-e5ec-2f2a25baebe7"
      },
      "source": [
        "#Library inti\n",
        "import pandas as pd\n",
        "import numpy as np\n",
        "\n",
        "#Library untuk visualisasi data\n",
        "import matplotlib.pyplot as plt\n",
        "import seaborn as sns\n",
        "\n",
        "#library untuk pre processing data\n",
        "from scipy import stats\n",
        "\n",
        "#Library untuk eksperimen pemodelan\n",
        "from sklearn.tree import DecisionTreeClassifier\n",
        "from sklearn.linear_model import LogisticRegression\n",
        "from sklearn.naive_bayes import GaussianNB\n",
        "\n",
        "#Library untuk evaluasi hasil pemodelan\n",
        "from sklearn.metrics import confusion_matrix\n",
        "from sklearn.metrics import accuracy_score\n",
        "from sklearn.metrics import precision_score\n",
        "from sklearn.metrics import recall_score\n",
        "from sklearn.metrics import f1_score\n",
        "\n",
        "#Library untuk mengakses drive\n",
        "from google.colab import drive\n",
        "drive.mount('/content/drive')"
      ],
      "execution_count": 187,
      "outputs": [
        {
          "output_type": "stream",
          "text": [
            "Drive already mounted at /content/drive; to attempt to forcibly remount, call drive.mount(\"/content/drive\", force_remount=True).\n"
          ],
          "name": "stdout"
        }
      ]
    },
    {
      "cell_type": "markdown",
      "metadata": {
        "id": "2nvPVFOzZ8bs"
      },
      "source": [
        "# Pre Processing Data Train"
      ]
    },
    {
      "cell_type": "code",
      "metadata": {
        "colab": {
          "base_uri": "https://localhost:8080/",
          "height": 215
        },
        "id": "KijGiSyeGEHS",
        "outputId": "f574dd02-2e2b-4c99-d48a-3c00f52a9e60"
      },
      "source": [
        "#Pemanggilan data train\n",
        "df_salju_train = pd.read_csv('drive/My Drive/malin/salju_train.csv')\n",
        "#Drop kolom yang tidak digunakan\n",
        "df_salju_train.drop(columns = ['id','Tanggal','KodeLokasi','ArahAnginTerkencang','ArahAngin9am','ArahAngin3pm'],inplace = True)\n",
        "#Menampilkan data setelah drop beberapa kolom\n",
        "df_salju_train.head()"
      ],
      "execution_count": 188,
      "outputs": [
        {
          "output_type": "execute_result",
          "data": {
            "text/html": [
              "<div>\n",
              "<style scoped>\n",
              "    .dataframe tbody tr th:only-of-type {\n",
              "        vertical-align: middle;\n",
              "    }\n",
              "\n",
              "    .dataframe tbody tr th {\n",
              "        vertical-align: top;\n",
              "    }\n",
              "\n",
              "    .dataframe thead th {\n",
              "        text-align: right;\n",
              "    }\n",
              "</style>\n",
              "<table border=\"1\" class=\"dataframe\">\n",
              "  <thead>\n",
              "    <tr style=\"text-align: right;\">\n",
              "      <th></th>\n",
              "      <th>SuhuMin</th>\n",
              "      <th>SuhuMax</th>\n",
              "      <th>Hujan</th>\n",
              "      <th>Penguapan</th>\n",
              "      <th>SinarMatahari</th>\n",
              "      <th>KecepatanAnginTerkencang</th>\n",
              "      <th>KecepatanAngin9am</th>\n",
              "      <th>KecepatanAngin3pm</th>\n",
              "      <th>Kelembaban9am</th>\n",
              "      <th>Kelembaban3pm</th>\n",
              "      <th>Tekanan9am</th>\n",
              "      <th>Tekanan3pm</th>\n",
              "      <th>Awan9am</th>\n",
              "      <th>Awan3pm</th>\n",
              "      <th>Suhu9am</th>\n",
              "      <th>Suhu3pm</th>\n",
              "      <th>BersaljuHariIni</th>\n",
              "      <th>BersaljuBesok</th>\n",
              "    </tr>\n",
              "  </thead>\n",
              "  <tbody>\n",
              "    <tr>\n",
              "      <th>0</th>\n",
              "      <td>10.4</td>\n",
              "      <td>15.5</td>\n",
              "      <td>4.8</td>\n",
              "      <td>NaN</td>\n",
              "      <td>NaN</td>\n",
              "      <td>24.0</td>\n",
              "      <td>0.0</td>\n",
              "      <td>13.0</td>\n",
              "      <td>78.0</td>\n",
              "      <td>76.0</td>\n",
              "      <td>1020.1</td>\n",
              "      <td>1018.5</td>\n",
              "      <td>NaN</td>\n",
              "      <td>NaN</td>\n",
              "      <td>13.1</td>\n",
              "      <td>15.0</td>\n",
              "      <td>Ya</td>\n",
              "      <td>Tidak</td>\n",
              "    </tr>\n",
              "    <tr>\n",
              "      <th>1</th>\n",
              "      <td>9.0</td>\n",
              "      <td>17.0</td>\n",
              "      <td>8.0</td>\n",
              "      <td>2.6</td>\n",
              "      <td>7.4</td>\n",
              "      <td>NaN</td>\n",
              "      <td>13.0</td>\n",
              "      <td>20.0</td>\n",
              "      <td>80.0</td>\n",
              "      <td>61.0</td>\n",
              "      <td>1015.2</td>\n",
              "      <td>1014.6</td>\n",
              "      <td>7.0</td>\n",
              "      <td>5.0</td>\n",
              "      <td>11.9</td>\n",
              "      <td>15.5</td>\n",
              "      <td>Ya</td>\n",
              "      <td>Ya</td>\n",
              "    </tr>\n",
              "    <tr>\n",
              "      <th>2</th>\n",
              "      <td>18.2</td>\n",
              "      <td>32.0</td>\n",
              "      <td>0.0</td>\n",
              "      <td>NaN</td>\n",
              "      <td>NaN</td>\n",
              "      <td>44.0</td>\n",
              "      <td>15.0</td>\n",
              "      <td>26.0</td>\n",
              "      <td>62.0</td>\n",
              "      <td>42.0</td>\n",
              "      <td>NaN</td>\n",
              "      <td>NaN</td>\n",
              "      <td>NaN</td>\n",
              "      <td>NaN</td>\n",
              "      <td>23.8</td>\n",
              "      <td>29.6</td>\n",
              "      <td>Tidak</td>\n",
              "      <td>Tidak</td>\n",
              "    </tr>\n",
              "    <tr>\n",
              "      <th>3</th>\n",
              "      <td>7.3</td>\n",
              "      <td>24.5</td>\n",
              "      <td>0.0</td>\n",
              "      <td>8.4</td>\n",
              "      <td>10.4</td>\n",
              "      <td>54.0</td>\n",
              "      <td>13.0</td>\n",
              "      <td>19.0</td>\n",
              "      <td>25.0</td>\n",
              "      <td>17.0</td>\n",
              "      <td>1019.2</td>\n",
              "      <td>1016.9</td>\n",
              "      <td>1.0</td>\n",
              "      <td>7.0</td>\n",
              "      <td>15.3</td>\n",
              "      <td>23.2</td>\n",
              "      <td>Tidak</td>\n",
              "      <td>Tidak</td>\n",
              "    </tr>\n",
              "    <tr>\n",
              "      <th>4</th>\n",
              "      <td>5.9</td>\n",
              "      <td>20.3</td>\n",
              "      <td>0.0</td>\n",
              "      <td>3.6</td>\n",
              "      <td>12.6</td>\n",
              "      <td>37.0</td>\n",
              "      <td>22.0</td>\n",
              "      <td>19.0</td>\n",
              "      <td>55.0</td>\n",
              "      <td>48.0</td>\n",
              "      <td>1019.7</td>\n",
              "      <td>1014.7</td>\n",
              "      <td>2.0</td>\n",
              "      <td>6.0</td>\n",
              "      <td>12.4</td>\n",
              "      <td>18.1</td>\n",
              "      <td>Tidak</td>\n",
              "      <td>Tidak</td>\n",
              "    </tr>\n",
              "  </tbody>\n",
              "</table>\n",
              "</div>"
            ],
            "text/plain": [
              "   SuhuMin  SuhuMax  Hujan  ...  Suhu3pm  BersaljuHariIni  BersaljuBesok\n",
              "0     10.4     15.5    4.8  ...     15.0               Ya          Tidak\n",
              "1      9.0     17.0    8.0  ...     15.5               Ya             Ya\n",
              "2     18.2     32.0    0.0  ...     29.6            Tidak          Tidak\n",
              "3      7.3     24.5    0.0  ...     23.2            Tidak          Tidak\n",
              "4      5.9     20.3    0.0  ...     18.1            Tidak          Tidak\n",
              "\n",
              "[5 rows x 18 columns]"
            ]
          },
          "metadata": {
            "tags": []
          },
          "execution_count": 188
        }
      ]
    },
    {
      "cell_type": "code",
      "metadata": {
        "colab": {
          "base_uri": "https://localhost:8080/",
          "height": 215
        },
        "id": "Z7xAvdojN_6G",
        "outputId": "ddd0c477-ae69-477e-e90e-eb5d3c551333"
      },
      "source": [
        "#Drop data yang duplikat\n",
        "df_salju_train = df_salju_train.drop_duplicates()\n",
        "#Drop data yang memiliki nilai null\n",
        "df_salju_train = df_salju_train.dropna()\n",
        "#Menampilkan data setelah drop beberapa data\n",
        "df_salju_train.head()"
      ],
      "execution_count": 189,
      "outputs": [
        {
          "output_type": "execute_result",
          "data": {
            "text/html": [
              "<div>\n",
              "<style scoped>\n",
              "    .dataframe tbody tr th:only-of-type {\n",
              "        vertical-align: middle;\n",
              "    }\n",
              "\n",
              "    .dataframe tbody tr th {\n",
              "        vertical-align: top;\n",
              "    }\n",
              "\n",
              "    .dataframe thead th {\n",
              "        text-align: right;\n",
              "    }\n",
              "</style>\n",
              "<table border=\"1\" class=\"dataframe\">\n",
              "  <thead>\n",
              "    <tr style=\"text-align: right;\">\n",
              "      <th></th>\n",
              "      <th>SuhuMin</th>\n",
              "      <th>SuhuMax</th>\n",
              "      <th>Hujan</th>\n",
              "      <th>Penguapan</th>\n",
              "      <th>SinarMatahari</th>\n",
              "      <th>KecepatanAnginTerkencang</th>\n",
              "      <th>KecepatanAngin9am</th>\n",
              "      <th>KecepatanAngin3pm</th>\n",
              "      <th>Kelembaban9am</th>\n",
              "      <th>Kelembaban3pm</th>\n",
              "      <th>Tekanan9am</th>\n",
              "      <th>Tekanan3pm</th>\n",
              "      <th>Awan9am</th>\n",
              "      <th>Awan3pm</th>\n",
              "      <th>Suhu9am</th>\n",
              "      <th>Suhu3pm</th>\n",
              "      <th>BersaljuHariIni</th>\n",
              "      <th>BersaljuBesok</th>\n",
              "    </tr>\n",
              "  </thead>\n",
              "  <tbody>\n",
              "    <tr>\n",
              "      <th>3</th>\n",
              "      <td>7.3</td>\n",
              "      <td>24.5</td>\n",
              "      <td>0.0</td>\n",
              "      <td>8.4</td>\n",
              "      <td>10.4</td>\n",
              "      <td>54.0</td>\n",
              "      <td>13.0</td>\n",
              "      <td>19.0</td>\n",
              "      <td>25.0</td>\n",
              "      <td>17.0</td>\n",
              "      <td>1019.2</td>\n",
              "      <td>1016.9</td>\n",
              "      <td>1.0</td>\n",
              "      <td>7.0</td>\n",
              "      <td>15.3</td>\n",
              "      <td>23.2</td>\n",
              "      <td>Tidak</td>\n",
              "      <td>Tidak</td>\n",
              "    </tr>\n",
              "    <tr>\n",
              "      <th>4</th>\n",
              "      <td>5.9</td>\n",
              "      <td>20.3</td>\n",
              "      <td>0.0</td>\n",
              "      <td>3.6</td>\n",
              "      <td>12.6</td>\n",
              "      <td>37.0</td>\n",
              "      <td>22.0</td>\n",
              "      <td>19.0</td>\n",
              "      <td>55.0</td>\n",
              "      <td>48.0</td>\n",
              "      <td>1019.7</td>\n",
              "      <td>1014.7</td>\n",
              "      <td>2.0</td>\n",
              "      <td>6.0</td>\n",
              "      <td>12.4</td>\n",
              "      <td>18.1</td>\n",
              "      <td>Tidak</td>\n",
              "      <td>Tidak</td>\n",
              "    </tr>\n",
              "    <tr>\n",
              "      <th>5</th>\n",
              "      <td>14.4</td>\n",
              "      <td>21.8</td>\n",
              "      <td>0.0</td>\n",
              "      <td>3.2</td>\n",
              "      <td>4.4</td>\n",
              "      <td>39.0</td>\n",
              "      <td>19.0</td>\n",
              "      <td>20.0</td>\n",
              "      <td>63.0</td>\n",
              "      <td>52.0</td>\n",
              "      <td>1016.1</td>\n",
              "      <td>1012.5</td>\n",
              "      <td>7.0</td>\n",
              "      <td>7.0</td>\n",
              "      <td>16.7</td>\n",
              "      <td>21.1</td>\n",
              "      <td>Tidak</td>\n",
              "      <td>Tidak</td>\n",
              "    </tr>\n",
              "    <tr>\n",
              "      <th>6</th>\n",
              "      <td>7.7</td>\n",
              "      <td>18.7</td>\n",
              "      <td>0.2</td>\n",
              "      <td>5.6</td>\n",
              "      <td>9.7</td>\n",
              "      <td>46.0</td>\n",
              "      <td>19.0</td>\n",
              "      <td>28.0</td>\n",
              "      <td>69.0</td>\n",
              "      <td>31.0</td>\n",
              "      <td>1011.3</td>\n",
              "      <td>1008.8</td>\n",
              "      <td>1.0</td>\n",
              "      <td>1.0</td>\n",
              "      <td>11.3</td>\n",
              "      <td>18.3</td>\n",
              "      <td>Tidak</td>\n",
              "      <td>Tidak</td>\n",
              "    </tr>\n",
              "    <tr>\n",
              "      <th>8</th>\n",
              "      <td>18.4</td>\n",
              "      <td>35.3</td>\n",
              "      <td>0.0</td>\n",
              "      <td>10.0</td>\n",
              "      <td>12.5</td>\n",
              "      <td>33.0</td>\n",
              "      <td>11.0</td>\n",
              "      <td>13.0</td>\n",
              "      <td>44.0</td>\n",
              "      <td>18.0</td>\n",
              "      <td>1017.9</td>\n",
              "      <td>1013.4</td>\n",
              "      <td>0.0</td>\n",
              "      <td>0.0</td>\n",
              "      <td>23.7</td>\n",
              "      <td>34.9</td>\n",
              "      <td>Tidak</td>\n",
              "      <td>Tidak</td>\n",
              "    </tr>\n",
              "  </tbody>\n",
              "</table>\n",
              "</div>"
            ],
            "text/plain": [
              "   SuhuMin  SuhuMax  Hujan  ...  Suhu3pm  BersaljuHariIni  BersaljuBesok\n",
              "3      7.3     24.5    0.0  ...     23.2            Tidak          Tidak\n",
              "4      5.9     20.3    0.0  ...     18.1            Tidak          Tidak\n",
              "5     14.4     21.8    0.0  ...     21.1            Tidak          Tidak\n",
              "6      7.7     18.7    0.2  ...     18.3            Tidak          Tidak\n",
              "8     18.4     35.3    0.0  ...     34.9            Tidak          Tidak\n",
              "\n",
              "[5 rows x 18 columns]"
            ]
          },
          "metadata": {
            "tags": []
          },
          "execution_count": 189
        }
      ]
    },
    {
      "cell_type": "code",
      "metadata": {
        "colab": {
          "base_uri": "https://localhost:8080/",
          "height": 215
        },
        "id": "U3mBB6ogQshf",
        "outputId": "93c42cb3-2cff-4f8e-9973-d6ef86b039f1"
      },
      "source": [
        "#Mengubah value dari kolom \"BersaljuHariIni\" menjadi biner\n",
        "df_salju_train[\"BersaljuHariIni\"].replace([\"Tidak\", \"Ya\"], [0,1], inplace = True)\n",
        "#Mengubah value dari kolom \"BersaljuBesok\" menjadi biner\n",
        "df_salju_train[\"BersaljuBesok\"].replace([\"Tidak\", \"Ya\"], [0,1], inplace = True)\n",
        "#Menampilkan data setelah perubahan\n",
        "df_salju_train.head()"
      ],
      "execution_count": 190,
      "outputs": [
        {
          "output_type": "execute_result",
          "data": {
            "text/html": [
              "<div>\n",
              "<style scoped>\n",
              "    .dataframe tbody tr th:only-of-type {\n",
              "        vertical-align: middle;\n",
              "    }\n",
              "\n",
              "    .dataframe tbody tr th {\n",
              "        vertical-align: top;\n",
              "    }\n",
              "\n",
              "    .dataframe thead th {\n",
              "        text-align: right;\n",
              "    }\n",
              "</style>\n",
              "<table border=\"1\" class=\"dataframe\">\n",
              "  <thead>\n",
              "    <tr style=\"text-align: right;\">\n",
              "      <th></th>\n",
              "      <th>SuhuMin</th>\n",
              "      <th>SuhuMax</th>\n",
              "      <th>Hujan</th>\n",
              "      <th>Penguapan</th>\n",
              "      <th>SinarMatahari</th>\n",
              "      <th>KecepatanAnginTerkencang</th>\n",
              "      <th>KecepatanAngin9am</th>\n",
              "      <th>KecepatanAngin3pm</th>\n",
              "      <th>Kelembaban9am</th>\n",
              "      <th>Kelembaban3pm</th>\n",
              "      <th>Tekanan9am</th>\n",
              "      <th>Tekanan3pm</th>\n",
              "      <th>Awan9am</th>\n",
              "      <th>Awan3pm</th>\n",
              "      <th>Suhu9am</th>\n",
              "      <th>Suhu3pm</th>\n",
              "      <th>BersaljuHariIni</th>\n",
              "      <th>BersaljuBesok</th>\n",
              "    </tr>\n",
              "  </thead>\n",
              "  <tbody>\n",
              "    <tr>\n",
              "      <th>3</th>\n",
              "      <td>7.3</td>\n",
              "      <td>24.5</td>\n",
              "      <td>0.0</td>\n",
              "      <td>8.4</td>\n",
              "      <td>10.4</td>\n",
              "      <td>54.0</td>\n",
              "      <td>13.0</td>\n",
              "      <td>19.0</td>\n",
              "      <td>25.0</td>\n",
              "      <td>17.0</td>\n",
              "      <td>1019.2</td>\n",
              "      <td>1016.9</td>\n",
              "      <td>1.0</td>\n",
              "      <td>7.0</td>\n",
              "      <td>15.3</td>\n",
              "      <td>23.2</td>\n",
              "      <td>0</td>\n",
              "      <td>0</td>\n",
              "    </tr>\n",
              "    <tr>\n",
              "      <th>4</th>\n",
              "      <td>5.9</td>\n",
              "      <td>20.3</td>\n",
              "      <td>0.0</td>\n",
              "      <td>3.6</td>\n",
              "      <td>12.6</td>\n",
              "      <td>37.0</td>\n",
              "      <td>22.0</td>\n",
              "      <td>19.0</td>\n",
              "      <td>55.0</td>\n",
              "      <td>48.0</td>\n",
              "      <td>1019.7</td>\n",
              "      <td>1014.7</td>\n",
              "      <td>2.0</td>\n",
              "      <td>6.0</td>\n",
              "      <td>12.4</td>\n",
              "      <td>18.1</td>\n",
              "      <td>0</td>\n",
              "      <td>0</td>\n",
              "    </tr>\n",
              "    <tr>\n",
              "      <th>5</th>\n",
              "      <td>14.4</td>\n",
              "      <td>21.8</td>\n",
              "      <td>0.0</td>\n",
              "      <td>3.2</td>\n",
              "      <td>4.4</td>\n",
              "      <td>39.0</td>\n",
              "      <td>19.0</td>\n",
              "      <td>20.0</td>\n",
              "      <td>63.0</td>\n",
              "      <td>52.0</td>\n",
              "      <td>1016.1</td>\n",
              "      <td>1012.5</td>\n",
              "      <td>7.0</td>\n",
              "      <td>7.0</td>\n",
              "      <td>16.7</td>\n",
              "      <td>21.1</td>\n",
              "      <td>0</td>\n",
              "      <td>0</td>\n",
              "    </tr>\n",
              "    <tr>\n",
              "      <th>6</th>\n",
              "      <td>7.7</td>\n",
              "      <td>18.7</td>\n",
              "      <td>0.2</td>\n",
              "      <td>5.6</td>\n",
              "      <td>9.7</td>\n",
              "      <td>46.0</td>\n",
              "      <td>19.0</td>\n",
              "      <td>28.0</td>\n",
              "      <td>69.0</td>\n",
              "      <td>31.0</td>\n",
              "      <td>1011.3</td>\n",
              "      <td>1008.8</td>\n",
              "      <td>1.0</td>\n",
              "      <td>1.0</td>\n",
              "      <td>11.3</td>\n",
              "      <td>18.3</td>\n",
              "      <td>0</td>\n",
              "      <td>0</td>\n",
              "    </tr>\n",
              "    <tr>\n",
              "      <th>8</th>\n",
              "      <td>18.4</td>\n",
              "      <td>35.3</td>\n",
              "      <td>0.0</td>\n",
              "      <td>10.0</td>\n",
              "      <td>12.5</td>\n",
              "      <td>33.0</td>\n",
              "      <td>11.0</td>\n",
              "      <td>13.0</td>\n",
              "      <td>44.0</td>\n",
              "      <td>18.0</td>\n",
              "      <td>1017.9</td>\n",
              "      <td>1013.4</td>\n",
              "      <td>0.0</td>\n",
              "      <td>0.0</td>\n",
              "      <td>23.7</td>\n",
              "      <td>34.9</td>\n",
              "      <td>0</td>\n",
              "      <td>0</td>\n",
              "    </tr>\n",
              "  </tbody>\n",
              "</table>\n",
              "</div>"
            ],
            "text/plain": [
              "   SuhuMin  SuhuMax  Hujan  ...  Suhu3pm  BersaljuHariIni  BersaljuBesok\n",
              "3      7.3     24.5    0.0  ...     23.2                0              0\n",
              "4      5.9     20.3    0.0  ...     18.1                0              0\n",
              "5     14.4     21.8    0.0  ...     21.1                0              0\n",
              "6      7.7     18.7    0.2  ...     18.3                0              0\n",
              "8     18.4     35.3    0.0  ...     34.9                0              0\n",
              "\n",
              "[5 rows x 18 columns]"
            ]
          },
          "metadata": {
            "tags": []
          },
          "execution_count": 190
        }
      ]
    },
    {
      "cell_type": "code",
      "metadata": {
        "colab": {
          "base_uri": "https://localhost:8080/",
          "height": 323
        },
        "id": "gY_1nMcdSlmu",
        "outputId": "1b3bc3f9-5c6d-4e79-d6c1-eeadac2d7173"
      },
      "source": [
        "#Visualisasi data\n",
        "plt.figure(figsize=(20,5))\n",
        "sns.boxplot(data= df_salju_train)"
      ],
      "execution_count": 191,
      "outputs": [
        {
          "output_type": "execute_result",
          "data": {
            "text/plain": [
              "<matplotlib.axes._subplots.AxesSubplot at 0x7fc2d15d2950>"
            ]
          },
          "metadata": {
            "tags": []
          },
          "execution_count": 191
        },
        {
          "output_type": "display_data",
          "data": {
            "image/png": "[encoded data removed]",
            "text/plain": [
              "<Figure size 1440x360 with 1 Axes>"
            ]
          },
          "metadata": {
            "tags": [],
            "needs_background": "light"
          }
        }
      ]
    },
    {
      "cell_type": "code",
      "metadata": {
        "colab": {
          "base_uri": "https://localhost:8080/"
        },
        "id": "ItK6VMWFS-KN",
        "outputId": "52bb1f4a-dd60-4c7e-e2e1-40f3724f85f3"
      },
      "source": [
        "#Menampilkan jumlah data beserta dengan outliers\n",
        "print(\"jumlah data dengan outliers:\", df_salju_train.shape)\n",
        "#Drop outliers\n",
        "df_salju_train = df_salju_train[(np.abs(stats.zscore(df_salju_train)) < 3).all(axis=1)]\n",
        "#Menampilkan jumlah data setelah drop outliers\n",
        "print(\"jumlah data tanpa outliers:\", df_salju_train.shape)"
      ],
      "execution_count": 192,
      "outputs": [
        {
          "output_type": "stream",
          "text": [
            "jumlah data dengan outliers: (43677, 18)\n",
            "jumlah data tanpa outliers: (41348, 18)\n"
          ],
          "name": "stdout"
        }
      ]
    },
    {
      "cell_type": "code",
      "metadata": {
        "colab": {
          "base_uri": "https://localhost:8080/",
          "height": 323
        },
        "id": "nB1xGvBlTUbW",
        "outputId": "8a54d4dd-5387-441f-9f5a-926484616dc6"
      },
      "source": [
        "#Visualisasi data\n",
        "plt.figure(figsize=(20,5))\n",
        "sns.boxplot(data= df_salju_train)"
      ],
      "execution_count": 193,
      "outputs": [
        {
          "output_type": "execute_result",
          "data": {
            "text/plain": [
              "<matplotlib.axes._subplots.AxesSubplot at 0x7fc2d139dbd0>"
            ]
          },
          "metadata": {
            "tags": []
          },
          "execution_count": 193
        },
        {
          "output_type": "display_data",
          "data": {
            "image/png": "[encoded data removed]",
            "text/plain": [
              "<Figure size 1440x360 with 1 Axes>"
            ]
          },
          "metadata": {
            "tags": [],
            "needs_background": "light"
          }
        }
      ]
    },
    {
      "cell_type": "code",
      "metadata": {
        "colab": {
          "base_uri": "https://localhost:8080/"
        },
        "id": "0eUXqYoNUaQF",
        "outputId": "667959cf-cec3-4fa2-a2ab-de4ac568cfb8"
      },
      "source": [
        "#Mengubah nilai data pada tiap kolom menjadi range 0-1\n",
        "df_salju_train_MinMax = (df_salju_train - df_salju_train.min()) / (df_salju_train.max() - df_salju_train.min())\n",
        "#Menyimpan kolom-kolom yang bukan target kedalam variabel x_train\n",
        "x_train = df_salju_train_MinMax.iloc[:, :-1].values\n",
        "#Menyimpan kolom yang merupakan target (\"BersaljuBesok\") kedalam variabel y_train\n",
        "y_train = df_salju_train_MinMax.iloc[:, -1].values\n",
        "#Menampilkan data\n",
        "x_train"
      ],
      "execution_count": 194,
      "outputs": [
        {
          "output_type": "execute_result",
          "data": {
            "text/plain": [
              "array([[0.36901408, 0.47519582, 0.        , ..., 0.41666667, 0.48837209,\n",
              "        0.        ],\n",
              "       [0.32957746, 0.36553525, 0.        , ..., 0.34114583, 0.35658915,\n",
              "        0.        ],\n",
              "       [0.56901408, 0.40469974, 0.        , ..., 0.453125  , 0.43410853,\n",
              "        0.        ],\n",
              "       ...,\n",
              "       [0.56619718, 0.51958225, 0.        , ..., 0.56770833, 0.54780362,\n",
              "        0.        ],\n",
              "       [0.72957746, 0.45430809, 0.        , ..., 0.59114583, 0.45994832,\n",
              "        0.        ],\n",
              "       [0.46760563, 0.61357702, 0.        , ..., 0.58333333, 0.64341085,\n",
              "        0.        ]])"
            ]
          },
          "metadata": {
            "tags": []
          },
          "execution_count": 194
        }
      ]
    },
    {
      "cell_type": "markdown",
      "metadata": {
        "id": "jO589tQHaHJ9"
      },
      "source": [
        "# Pre Processing Data Test"
      ]
    },
    {
      "cell_type": "code",
      "metadata": {
        "colab": {
          "base_uri": "https://localhost:8080/",
          "height": 215
        },
        "id": "eQLyquO_aNe9",
        "outputId": "0836dae3-11fe-4f54-aaa1-8a5cd38c77ec"
      },
      "source": [
        "#Pemanggilan data test\n",
        "df_salju_test = pd.read_csv('drive/My Drive/malin/salju_test.csv')\n",
        "#Drop kolom yang tidak digunakan\n",
        "df_salju_test.drop(columns = ['Tanggal','KodeLokasi','ArahAnginTerkencang','ArahAngin9am','ArahAngin3pm'],inplace = True)\n",
        "#Menampilkan data setelah drop beberapa kolom\n",
        "df_salju_test.head()"
      ],
      "execution_count": 195,
      "outputs": [
        {
          "output_type": "execute_result",
          "data": {
            "text/html": [
              "<div>\n",
              "<style scoped>\n",
              "    .dataframe tbody tr th:only-of-type {\n",
              "        vertical-align: middle;\n",
              "    }\n",
              "\n",
              "    .dataframe tbody tr th {\n",
              "        vertical-align: top;\n",
              "    }\n",
              "\n",
              "    .dataframe thead th {\n",
              "        text-align: right;\n",
              "    }\n",
              "</style>\n",
              "<table border=\"1\" class=\"dataframe\">\n",
              "  <thead>\n",
              "    <tr style=\"text-align: right;\">\n",
              "      <th></th>\n",
              "      <th>SuhuMin</th>\n",
              "      <th>SuhuMax</th>\n",
              "      <th>Hujan</th>\n",
              "      <th>Penguapan</th>\n",
              "      <th>SinarMatahari</th>\n",
              "      <th>KecepatanAnginTerkencang</th>\n",
              "      <th>KecepatanAngin9am</th>\n",
              "      <th>KecepatanAngin3pm</th>\n",
              "      <th>Kelembaban9am</th>\n",
              "      <th>Kelembaban3pm</th>\n",
              "      <th>Tekanan9am</th>\n",
              "      <th>Tekanan3pm</th>\n",
              "      <th>Awan9am</th>\n",
              "      <th>Awan3pm</th>\n",
              "      <th>Suhu9am</th>\n",
              "      <th>Suhu3pm</th>\n",
              "      <th>BersaljuHariIni</th>\n",
              "      <th>BersaljuBesok</th>\n",
              "    </tr>\n",
              "  </thead>\n",
              "  <tbody>\n",
              "    <tr>\n",
              "      <th>0</th>\n",
              "      <td>11.0</td>\n",
              "      <td>27.5</td>\n",
              "      <td>0.0</td>\n",
              "      <td>NaN</td>\n",
              "      <td>6.4</td>\n",
              "      <td>46.0</td>\n",
              "      <td>20.0</td>\n",
              "      <td>28.0</td>\n",
              "      <td>39.0</td>\n",
              "      <td>56.0</td>\n",
              "      <td>1013.0</td>\n",
              "      <td>1012.4</td>\n",
              "      <td>4.0</td>\n",
              "      <td>7.0</td>\n",
              "      <td>25.7</td>\n",
              "      <td>23.6</td>\n",
              "      <td>No</td>\n",
              "      <td>No</td>\n",
              "    </tr>\n",
              "    <tr>\n",
              "      <th>1</th>\n",
              "      <td>10.0</td>\n",
              "      <td>19.9</td>\n",
              "      <td>0.2</td>\n",
              "      <td>NaN</td>\n",
              "      <td>NaN</td>\n",
              "      <td>56.0</td>\n",
              "      <td>24.0</td>\n",
              "      <td>33.0</td>\n",
              "      <td>76.0</td>\n",
              "      <td>32.0</td>\n",
              "      <td>1017.0</td>\n",
              "      <td>1015.2</td>\n",
              "      <td>8.0</td>\n",
              "      <td>1.0</td>\n",
              "      <td>10.7</td>\n",
              "      <td>18.9</td>\n",
              "      <td>No</td>\n",
              "      <td>Yes</td>\n",
              "    </tr>\n",
              "    <tr>\n",
              "      <th>2</th>\n",
              "      <td>9.2</td>\n",
              "      <td>27.2</td>\n",
              "      <td>0.0</td>\n",
              "      <td>5.2</td>\n",
              "      <td>10.4</td>\n",
              "      <td>33.0</td>\n",
              "      <td>13.0</td>\n",
              "      <td>19.0</td>\n",
              "      <td>89.0</td>\n",
              "      <td>27.0</td>\n",
              "      <td>1018.6</td>\n",
              "      <td>1015.7</td>\n",
              "      <td>0.0</td>\n",
              "      <td>1.0</td>\n",
              "      <td>13.9</td>\n",
              "      <td>26.3</td>\n",
              "      <td>No</td>\n",
              "      <td>No</td>\n",
              "    </tr>\n",
              "    <tr>\n",
              "      <th>3</th>\n",
              "      <td>17.7</td>\n",
              "      <td>27.0</td>\n",
              "      <td>0.0</td>\n",
              "      <td>4.6</td>\n",
              "      <td>6.7</td>\n",
              "      <td>35.0</td>\n",
              "      <td>20.0</td>\n",
              "      <td>15.0</td>\n",
              "      <td>55.0</td>\n",
              "      <td>41.0</td>\n",
              "      <td>1010.2</td>\n",
              "      <td>1008.6</td>\n",
              "      <td>7.0</td>\n",
              "      <td>6.0</td>\n",
              "      <td>22.3</td>\n",
              "      <td>26.4</td>\n",
              "      <td>No</td>\n",
              "      <td>No</td>\n",
              "    </tr>\n",
              "    <tr>\n",
              "      <th>4</th>\n",
              "      <td>2.3</td>\n",
              "      <td>7.9</td>\n",
              "      <td>88.0</td>\n",
              "      <td>NaN</td>\n",
              "      <td>NaN</td>\n",
              "      <td>46.0</td>\n",
              "      <td>13.0</td>\n",
              "      <td>9.0</td>\n",
              "      <td>98.0</td>\n",
              "      <td>95.0</td>\n",
              "      <td>NaN</td>\n",
              "      <td>NaN</td>\n",
              "      <td>NaN</td>\n",
              "      <td>NaN</td>\n",
              "      <td>4.4</td>\n",
              "      <td>6.0</td>\n",
              "      <td>Yes</td>\n",
              "      <td>No</td>\n",
              "    </tr>\n",
              "  </tbody>\n",
              "</table>\n",
              "</div>"
            ],
            "text/plain": [
              "   SuhuMin  SuhuMax  Hujan  ...  Suhu3pm  BersaljuHariIni  BersaljuBesok\n",
              "0     11.0     27.5    0.0  ...     23.6               No             No\n",
              "1     10.0     19.9    0.2  ...     18.9               No            Yes\n",
              "2      9.2     27.2    0.0  ...     26.3               No             No\n",
              "3     17.7     27.0    0.0  ...     26.4               No             No\n",
              "4      2.3      7.9   88.0  ...      6.0              Yes             No\n",
              "\n",
              "[5 rows x 18 columns]"
            ]
          },
          "metadata": {
            "tags": []
          },
          "execution_count": 195
        }
      ]
    },
    {
      "cell_type": "code",
      "metadata": {
        "colab": {
          "base_uri": "https://localhost:8080/",
          "height": 215
        },
        "id": "n7_blRTQaQxU",
        "outputId": "9f6d9b36-7b7c-4272-dbed-ef6b7ec7f283"
      },
      "source": [
        "#Drop data yang duplikat\n",
        "df_salju_test = df_salju_test.drop_duplicates()\n",
        "#Drop data yang memiliki nilai null\n",
        "df_salju_test = df_salju_test.dropna()\n",
        "#Menampilkan data setelah drop beberapa data\n",
        "df_salju_test.head()"
      ],
      "execution_count": 196,
      "outputs": [
        {
          "output_type": "execute_result",
          "data": {
            "text/html": [
              "<div>\n",
              "<style scoped>\n",
              "    .dataframe tbody tr th:only-of-type {\n",
              "        vertical-align: middle;\n",
              "    }\n",
              "\n",
              "    .dataframe tbody tr th {\n",
              "        vertical-align: top;\n",
              "    }\n",
              "\n",
              "    .dataframe thead th {\n",
              "        text-align: right;\n",
              "    }\n",
              "</style>\n",
              "<table border=\"1\" class=\"dataframe\">\n",
              "  <thead>\n",
              "    <tr style=\"text-align: right;\">\n",
              "      <th></th>\n",
              "      <th>SuhuMin</th>\n",
              "      <th>SuhuMax</th>\n",
              "      <th>Hujan</th>\n",
              "      <th>Penguapan</th>\n",
              "      <th>SinarMatahari</th>\n",
              "      <th>KecepatanAnginTerkencang</th>\n",
              "      <th>KecepatanAngin9am</th>\n",
              "      <th>KecepatanAngin3pm</th>\n",
              "      <th>Kelembaban9am</th>\n",
              "      <th>Kelembaban3pm</th>\n",
              "      <th>Tekanan9am</th>\n",
              "      <th>Tekanan3pm</th>\n",
              "      <th>Awan9am</th>\n",
              "      <th>Awan3pm</th>\n",
              "      <th>Suhu9am</th>\n",
              "      <th>Suhu3pm</th>\n",
              "      <th>BersaljuHariIni</th>\n",
              "      <th>BersaljuBesok</th>\n",
              "    </tr>\n",
              "  </thead>\n",
              "  <tbody>\n",
              "    <tr>\n",
              "      <th>2</th>\n",
              "      <td>9.2</td>\n",
              "      <td>27.2</td>\n",
              "      <td>0.0</td>\n",
              "      <td>5.2</td>\n",
              "      <td>10.4</td>\n",
              "      <td>33.0</td>\n",
              "      <td>13.0</td>\n",
              "      <td>19.0</td>\n",
              "      <td>89.0</td>\n",
              "      <td>27.0</td>\n",
              "      <td>1018.6</td>\n",
              "      <td>1015.7</td>\n",
              "      <td>0.0</td>\n",
              "      <td>1.0</td>\n",
              "      <td>13.9</td>\n",
              "      <td>26.3</td>\n",
              "      <td>No</td>\n",
              "      <td>No</td>\n",
              "    </tr>\n",
              "    <tr>\n",
              "      <th>3</th>\n",
              "      <td>17.7</td>\n",
              "      <td>27.0</td>\n",
              "      <td>0.0</td>\n",
              "      <td>4.6</td>\n",
              "      <td>6.7</td>\n",
              "      <td>35.0</td>\n",
              "      <td>20.0</td>\n",
              "      <td>15.0</td>\n",
              "      <td>55.0</td>\n",
              "      <td>41.0</td>\n",
              "      <td>1010.2</td>\n",
              "      <td>1008.6</td>\n",
              "      <td>7.0</td>\n",
              "      <td>6.0</td>\n",
              "      <td>22.3</td>\n",
              "      <td>26.4</td>\n",
              "      <td>No</td>\n",
              "      <td>No</td>\n",
              "    </tr>\n",
              "    <tr>\n",
              "      <th>7</th>\n",
              "      <td>14.4</td>\n",
              "      <td>22.4</td>\n",
              "      <td>0.0</td>\n",
              "      <td>4.4</td>\n",
              "      <td>3.9</td>\n",
              "      <td>28.0</td>\n",
              "      <td>9.0</td>\n",
              "      <td>11.0</td>\n",
              "      <td>57.0</td>\n",
              "      <td>51.0</td>\n",
              "      <td>1022.6</td>\n",
              "      <td>1020.7</td>\n",
              "      <td>7.0</td>\n",
              "      <td>7.0</td>\n",
              "      <td>18.3</td>\n",
              "      <td>20.9</td>\n",
              "      <td>No</td>\n",
              "      <td>No</td>\n",
              "    </tr>\n",
              "    <tr>\n",
              "      <th>8</th>\n",
              "      <td>20.3</td>\n",
              "      <td>33.7</td>\n",
              "      <td>0.0</td>\n",
              "      <td>11.8</td>\n",
              "      <td>11.1</td>\n",
              "      <td>52.0</td>\n",
              "      <td>20.0</td>\n",
              "      <td>24.0</td>\n",
              "      <td>54.0</td>\n",
              "      <td>33.0</td>\n",
              "      <td>1007.7</td>\n",
              "      <td>1005.6</td>\n",
              "      <td>5.0</td>\n",
              "      <td>5.0</td>\n",
              "      <td>24.6</td>\n",
              "      <td>32.2</td>\n",
              "      <td>No</td>\n",
              "      <td>No</td>\n",
              "    </tr>\n",
              "    <tr>\n",
              "      <th>10</th>\n",
              "      <td>8.1</td>\n",
              "      <td>18.2</td>\n",
              "      <td>0.0</td>\n",
              "      <td>1.6</td>\n",
              "      <td>5.1</td>\n",
              "      <td>31.0</td>\n",
              "      <td>11.0</td>\n",
              "      <td>15.0</td>\n",
              "      <td>94.0</td>\n",
              "      <td>48.0</td>\n",
              "      <td>1027.1</td>\n",
              "      <td>1024.5</td>\n",
              "      <td>7.0</td>\n",
              "      <td>7.0</td>\n",
              "      <td>10.3</td>\n",
              "      <td>17.7</td>\n",
              "      <td>No</td>\n",
              "      <td>No</td>\n",
              "    </tr>\n",
              "  </tbody>\n",
              "</table>\n",
              "</div>"
            ],
            "text/plain": [
              "    SuhuMin  SuhuMax  Hujan  ...  Suhu3pm  BersaljuHariIni  BersaljuBesok\n",
              "2       9.2     27.2    0.0  ...     26.3               No             No\n",
              "3      17.7     27.0    0.0  ...     26.4               No             No\n",
              "7      14.4     22.4    0.0  ...     20.9               No             No\n",
              "8      20.3     33.7    0.0  ...     32.2               No             No\n",
              "10      8.1     18.2    0.0  ...     17.7               No             No\n",
              "\n",
              "[5 rows x 18 columns]"
            ]
          },
          "metadata": {
            "tags": []
          },
          "execution_count": 196
        }
      ]
    },
    {
      "cell_type": "code",
      "metadata": {
        "colab": {
          "base_uri": "https://localhost:8080/",
          "height": 215
        },
        "id": "eV8uP1ynaflU",
        "outputId": "7037e36a-d643-4ccd-ec1f-0d05cd5c3e7e"
      },
      "source": [
        "#Mengubah value dari kolom \"BersaljuHariIni\" menjadi biner\n",
        "df_salju_test[\"BersaljuHariIni\"].replace([\"No\", \"Yes\"], [0,1], inplace = True)\n",
        "#Mengubah value dari kolom \"BersaljuBesok\" menjadi biner\n",
        "df_salju_test[\"BersaljuBesok\"].replace([\"No\", \"Yes\"], [0,1], inplace = True)\n",
        "#Menampilkan data setelah perubahan\n",
        "df_salju_test.head()"
      ],
      "execution_count": 197,
      "outputs": [
        {
          "output_type": "execute_result",
          "data": {
            "text/html": [
              "<div>\n",
              "<style scoped>\n",
              "    .dataframe tbody tr th:only-of-type {\n",
              "        vertical-align: middle;\n",
              "    }\n",
              "\n",
              "    .dataframe tbody tr th {\n",
              "        vertical-align: top;\n",
              "    }\n",
              "\n",
              "    .dataframe thead th {\n",
              "        text-align: right;\n",
              "    }\n",
              "</style>\n",
              "<table border=\"1\" class=\"dataframe\">\n",
              "  <thead>\n",
              "    <tr style=\"text-align: right;\">\n",
              "      <th></th>\n",
              "      <th>SuhuMin</th>\n",
              "      <th>SuhuMax</th>\n",
              "      <th>Hujan</th>\n",
              "      <th>Penguapan</th>\n",
              "      <th>SinarMatahari</th>\n",
              "      <th>KecepatanAnginTerkencang</th>\n",
              "      <th>KecepatanAngin9am</th>\n",
              "      <th>KecepatanAngin3pm</th>\n",
              "      <th>Kelembaban9am</th>\n",
              "      <th>Kelembaban3pm</th>\n",
              "      <th>Tekanan9am</th>\n",
              "      <th>Tekanan3pm</th>\n",
              "      <th>Awan9am</th>\n",
              "      <th>Awan3pm</th>\n",
              "      <th>Suhu9am</th>\n",
              "      <th>Suhu3pm</th>\n",
              "      <th>BersaljuHariIni</th>\n",
              "      <th>BersaljuBesok</th>\n",
              "    </tr>\n",
              "  </thead>\n",
              "  <tbody>\n",
              "    <tr>\n",
              "      <th>2</th>\n",
              "      <td>9.2</td>\n",
              "      <td>27.2</td>\n",
              "      <td>0.0</td>\n",
              "      <td>5.2</td>\n",
              "      <td>10.4</td>\n",
              "      <td>33.0</td>\n",
              "      <td>13.0</td>\n",
              "      <td>19.0</td>\n",
              "      <td>89.0</td>\n",
              "      <td>27.0</td>\n",
              "      <td>1018.6</td>\n",
              "      <td>1015.7</td>\n",
              "      <td>0.0</td>\n",
              "      <td>1.0</td>\n",
              "      <td>13.9</td>\n",
              "      <td>26.3</td>\n",
              "      <td>0</td>\n",
              "      <td>0</td>\n",
              "    </tr>\n",
              "    <tr>\n",
              "      <th>3</th>\n",
              "      <td>17.7</td>\n",
              "      <td>27.0</td>\n",
              "      <td>0.0</td>\n",
              "      <td>4.6</td>\n",
              "      <td>6.7</td>\n",
              "      <td>35.0</td>\n",
              "      <td>20.0</td>\n",
              "      <td>15.0</td>\n",
              "      <td>55.0</td>\n",
              "      <td>41.0</td>\n",
              "      <td>1010.2</td>\n",
              "      <td>1008.6</td>\n",
              "      <td>7.0</td>\n",
              "      <td>6.0</td>\n",
              "      <td>22.3</td>\n",
              "      <td>26.4</td>\n",
              "      <td>0</td>\n",
              "      <td>0</td>\n",
              "    </tr>\n",
              "    <tr>\n",
              "      <th>7</th>\n",
              "      <td>14.4</td>\n",
              "      <td>22.4</td>\n",
              "      <td>0.0</td>\n",
              "      <td>4.4</td>\n",
              "      <td>3.9</td>\n",
              "      <td>28.0</td>\n",
              "      <td>9.0</td>\n",
              "      <td>11.0</td>\n",
              "      <td>57.0</td>\n",
              "      <td>51.0</td>\n",
              "      <td>1022.6</td>\n",
              "      <td>1020.7</td>\n",
              "      <td>7.0</td>\n",
              "      <td>7.0</td>\n",
              "      <td>18.3</td>\n",
              "      <td>20.9</td>\n",
              "      <td>0</td>\n",
              "      <td>0</td>\n",
              "    </tr>\n",
              "    <tr>\n",
              "      <th>8</th>\n",
              "      <td>20.3</td>\n",
              "      <td>33.7</td>\n",
              "      <td>0.0</td>\n",
              "      <td>11.8</td>\n",
              "      <td>11.1</td>\n",
              "      <td>52.0</td>\n",
              "      <td>20.0</td>\n",
              "      <td>24.0</td>\n",
              "      <td>54.0</td>\n",
              "      <td>33.0</td>\n",
              "      <td>1007.7</td>\n",
              "      <td>1005.6</td>\n",
              "      <td>5.0</td>\n",
              "      <td>5.0</td>\n",
              "      <td>24.6</td>\n",
              "      <td>32.2</td>\n",
              "      <td>0</td>\n",
              "      <td>0</td>\n",
              "    </tr>\n",
              "    <tr>\n",
              "      <th>10</th>\n",
              "      <td>8.1</td>\n",
              "      <td>18.2</td>\n",
              "      <td>0.0</td>\n",
              "      <td>1.6</td>\n",
              "      <td>5.1</td>\n",
              "      <td>31.0</td>\n",
              "      <td>11.0</td>\n",
              "      <td>15.0</td>\n",
              "      <td>94.0</td>\n",
              "      <td>48.0</td>\n",
              "      <td>1027.1</td>\n",
              "      <td>1024.5</td>\n",
              "      <td>7.0</td>\n",
              "      <td>7.0</td>\n",
              "      <td>10.3</td>\n",
              "      <td>17.7</td>\n",
              "      <td>0</td>\n",
              "      <td>0</td>\n",
              "    </tr>\n",
              "  </tbody>\n",
              "</table>\n",
              "</div>"
            ],
            "text/plain": [
              "    SuhuMin  SuhuMax  Hujan  ...  Suhu3pm  BersaljuHariIni  BersaljuBesok\n",
              "2       9.2     27.2    0.0  ...     26.3                0              0\n",
              "3      17.7     27.0    0.0  ...     26.4                0              0\n",
              "7      14.4     22.4    0.0  ...     20.9                0              0\n",
              "8      20.3     33.7    0.0  ...     32.2                0              0\n",
              "10      8.1     18.2    0.0  ...     17.7                0              0\n",
              "\n",
              "[5 rows x 18 columns]"
            ]
          },
          "metadata": {
            "tags": []
          },
          "execution_count": 197
        }
      ]
    },
    {
      "cell_type": "code",
      "metadata": {
        "colab": {
          "base_uri": "https://localhost:8080/",
          "height": 323
        },
        "id": "udoHuEYeakAU",
        "outputId": "52aec4e2-9bef-4b21-b622-ca8b43972a98"
      },
      "source": [
        "#Visualisasi data\n",
        "plt.figure(figsize=(20,5))\n",
        "sns.boxplot(data= df_salju_test)"
      ],
      "execution_count": 198,
      "outputs": [
        {
          "output_type": "execute_result",
          "data": {
            "text/plain": [
              "<matplotlib.axes._subplots.AxesSubplot at 0x7fc2d11ab110>"
            ]
          },
          "metadata": {
            "tags": []
          },
          "execution_count": 198
        },
        {
          "output_type": "display_data",
          "data": {
            "image/png": "[encoded data removed]",
            "text/plain": [
              "<Figure size 1440x360 with 1 Axes>"
            ]
          },
          "metadata": {
            "tags": [],
            "needs_background": "light"
          }
        }
      ]
    },
    {
      "cell_type": "code",
      "metadata": {
        "colab": {
          "base_uri": "https://localhost:8080/"
        },
        "id": "2VmGPPouaoBF",
        "outputId": "32239fce-dc36-4880-8e2b-acb5b83524fe"
      },
      "source": [
        "#Menampilkan jumlah data beserta dengan outliers\n",
        "print(\"jumlah data dengan outliers:\", df_salju_test.shape)\n",
        "#Drop outliers\n",
        "df_salju_train = df_salju_train[(np.abs(stats.zscore(df_salju_train)) < 3).all(axis=1)]\n",
        "#Menampilkan jumlah data setelah drop outliers\n",
        "print(\"jumlah data tanpa outliers:\", df_salju_test.shape)"
      ],
      "execution_count": 199,
      "outputs": [
        {
          "output_type": "stream",
          "text": [
            "jumlah data dengan outliers: (7225, 18)\n",
            "jumlah data tanpa outliers: (7225, 18)\n"
          ],
          "name": "stdout"
        }
      ]
    },
    {
      "cell_type": "code",
      "metadata": {
        "colab": {
          "base_uri": "https://localhost:8080/",
          "height": 323
        },
        "id": "gi9ihwVpa1Ik",
        "outputId": "a181f5e0-4846-4d24-8eff-5eb1a78766c5"
      },
      "source": [
        "#Visualisasi data\n",
        "plt.figure(figsize=(20,5))\n",
        "sns.boxplot(data= df_salju_test)"
      ],
      "execution_count": 200,
      "outputs": [
        {
          "output_type": "execute_result",
          "data": {
            "text/plain": [
              "<matplotlib.axes._subplots.AxesSubplot at 0x7fc2d14014d0>"
            ]
          },
          "metadata": {
            "tags": []
          },
          "execution_count": 200
        },
        {
          "output_type": "display_data",
          "data": {
            "image/png": "[encoded data removed]",
            "text/plain": [
              "<Figure size 1440x360 with 1 Axes>"
            ]
          },
          "metadata": {
            "tags": [],
            "needs_background": "light"
          }
        }
      ]
    },
    {
      "cell_type": "code",
      "metadata": {
        "colab": {
          "base_uri": "https://localhost:8080/"
        },
        "id": "29i6PP2Za58b",
        "outputId": "08598f78-d653-423f-d899-6e543b255b26"
      },
      "source": [
        "#Mengubah nilai data pada tiap kolom menjadi range 0-1\n",
        "df_salju_test_MinMax = (df_salju_test - df_salju_test.min()) / (df_salju_test.max() - df_salju_test.min())\n",
        "#Menyimpan kolom-kolom yang bukan target kedalam variabel x_test\n",
        "x_test = df_salju_test_MinMax.iloc[:, :-1].values\n",
        "#Menyimpan kolom yang merupakan target (\"BersaljuBesok\") kedalam variabel y_test\n",
        "y_test = df_salju_test_MinMax.iloc[:, -1].values\n",
        "#Menampilkan data\n",
        "x_test"
      ],
      "execution_count": 201,
      "outputs": [
        {
          "output_type": "execute_result",
          "data": {
            "text/plain": [
              "array([[0.40524781, 0.48267327, 0.        , ..., 0.35849057, 0.52058111,\n",
              "        0.        ],\n",
              "       [0.65306122, 0.47772277, 0.        , ..., 0.58490566, 0.52300242,\n",
              "        0.        ],\n",
              "       [0.55685131, 0.36386139, 0.        , ..., 0.47708895, 0.38983051,\n",
              "        0.        ],\n",
              "       ...,\n",
              "       [0.36443149, 0.4480198 , 0.        , ..., 0.43665768, 0.46489104,\n",
              "        0.        ],\n",
              "       [0.49854227, 0.46782178, 0.        , ..., 0.44474394, 0.50605327,\n",
              "        0.        ],\n",
              "       [0.50145773, 0.47029703, 0.        , ..., 0.60107817, 0.49878935,\n",
              "        0.        ]])"
            ]
          },
          "metadata": {
            "tags": []
          },
          "execution_count": 201
        }
      ]
    },
    {
      "cell_type": "markdown",
      "metadata": {
        "id": "gPvDRJjDtSdE"
      },
      "source": [
        "# Pemodelan"
      ]
    },
    {
      "cell_type": "code",
      "metadata": {
        "colab": {
          "base_uri": "https://localhost:8080/"
        },
        "id": "Ky8jt_beVW6e",
        "outputId": "6a3469a4-58be-4940-faac-278667a0aada"
      },
      "source": [
        "#Membuat sebuah objek menggunakan metode decision tree classifier\n",
        "model = DecisionTreeClassifier(criterion = 'entropy', random_state = 0)\n",
        "#Melakukan data train dengan dataset yang ada dengan menggunakan metode fit\n",
        "model.fit(x_train, y_train)"
      ],
      "execution_count": 202,
      "outputs": [
        {
          "output_type": "execute_result",
          "data": {
            "text/plain": [
              "DecisionTreeClassifier(ccp_alpha=0.0, class_weight=None, criterion='entropy',\n",
              "                       max_depth=None, max_features=None, max_leaf_nodes=None,\n",
              "                       min_impurity_decrease=0.0, min_impurity_split=None,\n",
              "                       min_samples_leaf=1, min_samples_split=2,\n",
              "                       min_weight_fraction_leaf=0.0, presort='deprecated',\n",
              "                       random_state=0, splitter='best')"
            ]
          },
          "metadata": {
            "tags": []
          },
          "execution_count": 202
        }
      ]
    },
    {
      "cell_type": "code",
      "metadata": {
        "colab": {
          "base_uri": "https://localhost:8080/",
          "height": 195
        },
        "id": "e2cb2GJsbaV0",
        "outputId": "e21fc124-41d0-4cf7-e6d6-524228494604"
      },
      "source": [
        "#Melakukan klasifikasi pada data test\n",
        "y_pred = model.predict(x_test)\n",
        "#Menggabungkan data test dengan hasil prediksi untuk melakukan perbandingan\n",
        "df_hasil = pd.concat([pd.DataFrame(y_test, columns=['test']) ,pd.DataFrame(y_pred, columns=['predict'])], axis=1)\n",
        "#Menampilkan data yang sudah digabung\n",
        "df_hasil.head()"
      ],
      "execution_count": 203,
      "outputs": [
        {
          "output_type": "execute_result",
          "data": {
            "text/html": [
              "<div>\n",
              "<style scoped>\n",
              "    .dataframe tbody tr th:only-of-type {\n",
              "        vertical-align: middle;\n",
              "    }\n",
              "\n",
              "    .dataframe tbody tr th {\n",
              "        vertical-align: top;\n",
              "    }\n",
              "\n",
              "    .dataframe thead th {\n",
              "        text-align: right;\n",
              "    }\n",
              "</style>\n",
              "<table border=\"1\" class=\"dataframe\">\n",
              "  <thead>\n",
              "    <tr style=\"text-align: right;\">\n",
              "      <th></th>\n",
              "      <th>test</th>\n",
              "      <th>predict</th>\n",
              "    </tr>\n",
              "  </thead>\n",
              "  <tbody>\n",
              "    <tr>\n",
              "      <th>0</th>\n",
              "      <td>0.0</td>\n",
              "      <td>0.0</td>\n",
              "    </tr>\n",
              "    <tr>\n",
              "      <th>1</th>\n",
              "      <td>0.0</td>\n",
              "      <td>0.0</td>\n",
              "    </tr>\n",
              "    <tr>\n",
              "      <th>2</th>\n",
              "      <td>0.0</td>\n",
              "      <td>0.0</td>\n",
              "    </tr>\n",
              "    <tr>\n",
              "      <th>3</th>\n",
              "      <td>0.0</td>\n",
              "      <td>0.0</td>\n",
              "    </tr>\n",
              "    <tr>\n",
              "      <th>4</th>\n",
              "      <td>0.0</td>\n",
              "      <td>0.0</td>\n",
              "    </tr>\n",
              "  </tbody>\n",
              "</table>\n",
              "</div>"
            ],
            "text/plain": [
              "   test  predict\n",
              "0   0.0      0.0\n",
              "1   0.0      0.0\n",
              "2   0.0      0.0\n",
              "3   0.0      0.0\n",
              "4   0.0      0.0"
            ]
          },
          "metadata": {
            "tags": []
          },
          "execution_count": 203
        }
      ]
    },
    {
      "cell_type": "markdown",
      "metadata": {
        "id": "TQVv2OnjtXZy"
      },
      "source": [
        "# Evaluasi"
      ]
    },
    {
      "cell_type": "code",
      "metadata": {
        "colab": {
          "base_uri": "https://localhost:8080/",
          "height": 349
        },
        "id": "5Azcqr_dkMst",
        "outputId": "cdb0e8c8-b4f4-4535-d239-7dbd9d82f5fd"
      },
      "source": [
        "#Membuat confusion matrix\n",
        "cm = confusion_matrix(y_test, y_pred)\n",
        "\n",
        "#Menghitung accuracy dengan rumus accuracy = (TP + TN ) / (TP + FP + FN + TN)\n",
        "accuracy = accuracy_score(y_test, y_pred) * 100\n",
        "print('Accuracy: %0.2f' % accuracy , '%')\n",
        "#Menghitung precision dengan rumus precision = (TP) / (TP + FP)\n",
        "precision = precision_score(y_test, y_pred) * 100\n",
        "print('Precision: %0.2f' % precision , '%')\n",
        "#Menghitung recall dengan rumus recall = (TP) / (TP + FN)\n",
        "recall = recall_score(y_test, y_pred ) *100\n",
        "print('Recall: %0.2f' % recall , '%')\n",
        "#Menghitung f1 score dengan rumus f1 score = 2 * (Recall * Precission) / (Recall + Precission)\n",
        "f1 = f1_score(y_test, y_pred , '%') *100\n",
        "print('F1 score: %0.2f' % f1 , '%')\n",
        "\n",
        "#Visualisasi confusion matrix\n",
        "group_names = ['TN', 'FP', 'FN', 'TP']\n",
        "group_counts = [\"{0:0.0f}\".format(value) for value in cm.flatten()]\n",
        "group_percentages = [\"{0:.2%}\".format(value) for value in cm.flatten()/np.sum(cm)]\n",
        "labels = [f\"{v1}\\n{v2}\\n{v3}\" for v1, v2, v3 in zip(group_names, group_counts, group_percentages)]\n",
        "labels = np.asarray(labels).reshape(2, 2)\n",
        "sns.heatmap(cm, annot=labels, fmt='', cmap='Greens')"
      ],
      "execution_count": 204,
      "outputs": [
        {
          "output_type": "stream",
          "text": [
            "Accuracy: 78.31 %\n",
            "Precision: 52.60 %\n",
            "Recall: 42.73 %\n",
            "F1 score: 47.15 %\n"
          ],
          "name": "stdout"
        },
        {
          "output_type": "execute_result",
          "data": {
            "text/plain": [
              "<matplotlib.axes._subplots.AxesSubplot at 0x7fc2d0d5ba10>"
            ]
          },
          "metadata": {
            "tags": []
          },
          "execution_count": 204
        },
        {
          "output_type": "display_data",
          "data": {
            "image/png": "[encoded data removed]",
            "text/plain": [
              "<Figure size 432x288 with 2 Axes>"
            ]
          },
          "metadata": {
            "tags": [],
            "needs_background": "light"
          }
        }
      ]
    },
    {
      "cell_type": "markdown",
      "metadata": {
        "id": "BDToijTvuc17"
      },
      "source": [
        "# Eksperimen ke-1 (Naive Bayes)"
      ]
    },
    {
      "cell_type": "code",
      "metadata": {
        "id": "obrlOUTWum2r"
      },
      "source": [
        "#Menyimpan kolom-kolom yang bukan target kedalam variabel x_train\n",
        "eks1_x_train = df_salju_train_MinMax.iloc[:, :-1].values\n",
        "#Menyimpan kolom yang merupakan target (\"BersaljuBesok\") kedalam variabel y_train\n",
        "eks1_y_train = df_salju_train_MinMax.iloc[:, -1].values\n",
        "#Menyimpan kolom-kolom yang bukan target kedalam variabel x_test\n",
        "eks1_x_test = df_salju_test_MinMax.iloc[:, :-1].values\n",
        "#Menyimpan kolom yang merupakan target (\"BersaljuBesok\") kedalam variabel y_test\n",
        "eks1_y_test = df_salju_test_MinMax.iloc[:, -1].values"
      ],
      "execution_count": 205,
      "outputs": []
    },
    {
      "cell_type": "code",
      "metadata": {
        "colab": {
          "base_uri": "https://localhost:8080/"
        },
        "id": "XruRvZF1xL0z",
        "outputId": "5ab4a23e-3e74-4442-be68-0e4745b52b72"
      },
      "source": [
        "#Membuat sebuah objek menggunakan metode Naive Bayes\n",
        "eks1_model = GaussianNB()\n",
        "#Melakukan data train dengan dataset yang ada dengan menggunakan metode fit\n",
        "eks1_model.fit(eks1_x_train, eks1_y_train)"
      ],
      "execution_count": 206,
      "outputs": [
        {
          "output_type": "execute_result",
          "data": {
            "text/plain": [
              "GaussianNB(priors=None, var_smoothing=1e-09)"
            ]
          },
          "metadata": {
            "tags": []
          },
          "execution_count": 206
        }
      ]
    },
    {
      "cell_type": "code",
      "metadata": {
        "colab": {
          "base_uri": "https://localhost:8080/",
          "height": 195
        },
        "id": "S1qOvPtXxgGF",
        "outputId": "0993a10e-6946-4467-89fc-4353d5dcdf5e"
      },
      "source": [
        "#Melakukan klasifikasi pada data test\n",
        "eks1_y_pred = eks1_model.predict(eks1_x_test)\n",
        "#Menggabungkan data test dengan hasil prediksi untuk melakukan perbandingan\n",
        "eks1_df_hasil = pd.concat([pd.DataFrame(eks1_y_test, columns=['test']) ,pd.DataFrame(eks1_y_pred, columns=['predict'])], axis=1)\n",
        "#Menampilkan data yang sudah digabung\n",
        "eks1_df_hasil.head()"
      ],
      "execution_count": 207,
      "outputs": [
        {
          "output_type": "execute_result",
          "data": {
            "text/html": [
              "<div>\n",
              "<style scoped>\n",
              "    .dataframe tbody tr th:only-of-type {\n",
              "        vertical-align: middle;\n",
              "    }\n",
              "\n",
              "    .dataframe tbody tr th {\n",
              "        vertical-align: top;\n",
              "    }\n",
              "\n",
              "    .dataframe thead th {\n",
              "        text-align: right;\n",
              "    }\n",
              "</style>\n",
              "<table border=\"1\" class=\"dataframe\">\n",
              "  <thead>\n",
              "    <tr style=\"text-align: right;\">\n",
              "      <th></th>\n",
              "      <th>test</th>\n",
              "      <th>predict</th>\n",
              "    </tr>\n",
              "  </thead>\n",
              "  <tbody>\n",
              "    <tr>\n",
              "      <th>0</th>\n",
              "      <td>0.0</td>\n",
              "      <td>0.0</td>\n",
              "    </tr>\n",
              "    <tr>\n",
              "      <th>1</th>\n",
              "      <td>0.0</td>\n",
              "      <td>0.0</td>\n",
              "    </tr>\n",
              "    <tr>\n",
              "      <th>2</th>\n",
              "      <td>0.0</td>\n",
              "      <td>0.0</td>\n",
              "    </tr>\n",
              "    <tr>\n",
              "      <th>3</th>\n",
              "      <td>0.0</td>\n",
              "      <td>0.0</td>\n",
              "    </tr>\n",
              "    <tr>\n",
              "      <th>4</th>\n",
              "      <td>0.0</td>\n",
              "      <td>0.0</td>\n",
              "    </tr>\n",
              "  </tbody>\n",
              "</table>\n",
              "</div>"
            ],
            "text/plain": [
              "   test  predict\n",
              "0   0.0      0.0\n",
              "1   0.0      0.0\n",
              "2   0.0      0.0\n",
              "3   0.0      0.0\n",
              "4   0.0      0.0"
            ]
          },
          "metadata": {
            "tags": []
          },
          "execution_count": 207
        }
      ]
    },
    {
      "cell_type": "code",
      "metadata": {
        "colab": {
          "base_uri": "https://localhost:8080/",
          "height": 349
        },
        "id": "vF6HGB0hyqUc",
        "outputId": "5bbacac3-326f-47a7-a02e-4a4548e83c4c"
      },
      "source": [
        "#Membuat confusion matrix\n",
        "eks1_cm = confusion_matrix(eks1_y_test, eks1_y_pred)\n",
        "\n",
        "#Menghitung accuracy dengan rumus accuracy = (TP + TN ) / (TP + FP + FN + TN)\n",
        "accuracy = accuracy_score(eks1_y_test, eks1_y_pred) * 100\n",
        "print('Accuracy: %0.2f' % accuracy , '%')\n",
        "#Menghitung precision dengan rumus precision = (TP) / (TP + FP)\n",
        "precision = precision_score(eks1_y_test, eks1_y_pred) * 100\n",
        "print('Precision: %0.2f' % precision , '%')\n",
        "#Menghitung recall dengan rumus recall = (TP) / (TP + FN)\n",
        "recall = recall_score(eks1_y_test, eks1_y_pred ) *100\n",
        "print('Recall: %0.2f' % recall , '%')\n",
        "#Menghitung f1 score dengan rumus f1 score = 2 * (Recall * Precission) / (Recall + Precission)\n",
        "f1 = f1_score(eks1_y_test, eks1_y_pred , '%') *100\n",
        "print('F1 score: %0.2f' % f1 , '%')\n",
        "\n",
        "#Visualisasi confusion matrix\n",
        "group_names = ['TN', 'FP', 'FN', 'TP']\n",
        "group_counts = [\"{0:0.0f}\".format(value) for value in eks1_cm.flatten()]\n",
        "group_percentages = [\"{0:.2%}\".format(value) for value in eks1_cm.flatten()/np.sum(eks1_cm)]\n",
        "labels = [f\"{v1}\\n{v2}\\n{v3}\" for v1, v2, v3 in zip(group_names, group_counts, group_percentages)]\n",
        "labels = np.asarray(labels).reshape(2, 2)\n",
        "sns.heatmap(eks1_cm, annot=labels, fmt='', cmap='Greens')"
      ],
      "execution_count": 208,
      "outputs": [
        {
          "output_type": "stream",
          "text": [
            "Accuracy: 80.83 %\n",
            "Precision: 56.59 %\n",
            "Recall: 65.89 %\n",
            "F1 score: 60.89 %\n"
          ],
          "name": "stdout"
        },
        {
          "output_type": "execute_result",
          "data": {
            "text/plain": [
              "<matplotlib.axes._subplots.AxesSubplot at 0x7fc2d0cc3550>"
            ]
          },
          "metadata": {
            "tags": []
          },
          "execution_count": 208
        },
        {
          "output_type": "display_data",
          "data": {
            "image/png": "[encoded data removed]",
            "text/plain": [
              "<Figure size 432x288 with 2 Axes>"
            ]
          },
          "metadata": {
            "tags": [],
            "needs_background": "light"
          }
        }
      ]
    },
    {
      "cell_type": "markdown",
      "metadata": {
        "id": "FqHNYXEFzvbc"
      },
      "source": [
        "# Eksperimen ke-2 (Logistic Regression)"
      ]
    },
    {
      "cell_type": "code",
      "metadata": {
        "id": "wieyrLD8z0Cj"
      },
      "source": [
        "#Menyimpan kolom-kolom yang bukan target kedalam variabel x_train\n",
        "eks2_x_train = df_salju_train_MinMax.iloc[:, :-1].values\n",
        "#Menyimpan kolom yang merupakan target (\"BersaljuBesok\") kedalam variabel y_train\n",
        "eks2_y_train = df_salju_train_MinMax.iloc[:, -1].values\n",
        "#Menyimpan kolom-kolom yang bukan target kedalam variabel x_test\n",
        "eks2_x_test = df_salju_test_MinMax.iloc[:, :-1].values\n",
        "#Menyimpan kolom yang merupakan target (\"BersaljuBesok\") kedalam variabel y_test\n",
        "eks2_y_test = df_salju_test_MinMax.iloc[:, -1].values"
      ],
      "execution_count": 209,
      "outputs": []
    },
    {
      "cell_type": "code",
      "metadata": {
        "colab": {
          "base_uri": "https://localhost:8080/"
        },
        "id": "43AenrU3z3HB",
        "outputId": "e63e3c66-8c55-42fe-cf7c-6e0c34d1e6e9"
      },
      "source": [
        "#Membuat sebuah objek menggunakan metode Logistic Regression\n",
        "eks2_model = LogisticRegression(random_state = 0)\n",
        "#Melakukan data train dengan dataset yang ada dengan menggunakan metode fit\n",
        "eks2_model.fit(eks2_x_train, eks2_y_train)"
      ],
      "execution_count": 210,
      "outputs": [
        {
          "output_type": "stream",
          "text": [
            "/usr/local/lib/python3.7/dist-packages/sklearn/linear_model/_logistic.py:940: ConvergenceWarning: lbfgs failed to converge (status=1):\n",
            "STOP: TOTAL NO. of ITERATIONS REACHED LIMIT.\n",
            "\n",
            "Increase the number of iterations (max_iter) or scale the data as shown in:\n",
            "    https://scikit-learn.org/stable/modules/preprocessing.html\n",
            "Please also refer to the documentation for alternative solver options:\n",
            "    https://scikit-learn.org/stable/modules/linear_model.html#logistic-regression\n",
            "  extra_warning_msg=_LOGISTIC_SOLVER_CONVERGENCE_MSG)\n"
          ],
          "name": "stderr"
        },
        {
          "output_type": "execute_result",
          "data": {
            "text/plain": [
              "LogisticRegression(C=1.0, class_weight=None, dual=False, fit_intercept=True,\n",
              "                   intercept_scaling=1, l1_ratio=None, max_iter=100,\n",
              "                   multi_class='auto', n_jobs=None, penalty='l2',\n",
              "                   random_state=0, solver='lbfgs', tol=0.0001, verbose=0,\n",
              "                   warm_start=False)"
            ]
          },
          "metadata": {
            "tags": []
          },
          "execution_count": 210
        }
      ]
    },
    {
      "cell_type": "code",
      "metadata": {
        "colab": {
          "base_uri": "https://localhost:8080/",
          "height": 195
        },
        "id": "GepENfV90gd8",
        "outputId": "d87950fa-7f4a-41b0-fd28-ee656b1c91ed"
      },
      "source": [
        "#Melakukan klasifikasi pada data test\n",
        "eks2_y_pred = eks2_model.predict(eks2_x_test)\n",
        "#Menggabungkan data test dengan hasil prediksi untuk melakukan perbandingan\n",
        "eks2_df_hasil = pd.concat([pd.DataFrame(eks2_y_test, columns=['test']) ,pd.DataFrame(eks2_y_pred, columns=['predict'])], axis=1)\n",
        "#Menampilkan data yang sudah digabung\n",
        "eks2_df_hasil.head()"
      ],
      "execution_count": 211,
      "outputs": [
        {
          "output_type": "execute_result",
          "data": {
            "text/html": [
              "<div>\n",
              "<style scoped>\n",
              "    .dataframe tbody tr th:only-of-type {\n",
              "        vertical-align: middle;\n",
              "    }\n",
              "\n",
              "    .dataframe tbody tr th {\n",
              "        vertical-align: top;\n",
              "    }\n",
              "\n",
              "    .dataframe thead th {\n",
              "        text-align: right;\n",
              "    }\n",
              "</style>\n",
              "<table border=\"1\" class=\"dataframe\">\n",
              "  <thead>\n",
              "    <tr style=\"text-align: right;\">\n",
              "      <th></th>\n",
              "      <th>test</th>\n",
              "      <th>predict</th>\n",
              "    </tr>\n",
              "  </thead>\n",
              "  <tbody>\n",
              "    <tr>\n",
              "      <th>0</th>\n",
              "      <td>0.0</td>\n",
              "      <td>0.0</td>\n",
              "    </tr>\n",
              "    <tr>\n",
              "      <th>1</th>\n",
              "      <td>0.0</td>\n",
              "      <td>0.0</td>\n",
              "    </tr>\n",
              "    <tr>\n",
              "      <th>2</th>\n",
              "      <td>0.0</td>\n",
              "      <td>0.0</td>\n",
              "    </tr>\n",
              "    <tr>\n",
              "      <th>3</th>\n",
              "      <td>0.0</td>\n",
              "      <td>0.0</td>\n",
              "    </tr>\n",
              "    <tr>\n",
              "      <th>4</th>\n",
              "      <td>0.0</td>\n",
              "      <td>0.0</td>\n",
              "    </tr>\n",
              "  </tbody>\n",
              "</table>\n",
              "</div>"
            ],
            "text/plain": [
              "   test  predict\n",
              "0   0.0      0.0\n",
              "1   0.0      0.0\n",
              "2   0.0      0.0\n",
              "3   0.0      0.0\n",
              "4   0.0      0.0"
            ]
          },
          "metadata": {
            "tags": []
          },
          "execution_count": 211
        }
      ]
    },
    {
      "cell_type": "code",
      "metadata": {
        "colab": {
          "base_uri": "https://localhost:8080/",
          "height": 349
        },
        "id": "ZhFryOUL0xi1",
        "outputId": "6eb99781-1c27-4937-ede7-fcf0b9c07033"
      },
      "source": [
        "#Membuat confusion matrix\n",
        "eks2_cm = confusion_matrix(eks2_y_test, eks2_y_pred)\n",
        "\n",
        "#Menghitung accuracy dengan rumus accuracy = (TP + TN ) / (TP + FP + FN + TN)\n",
        "accuracy = accuracy_score(eks2_y_test, eks2_y_pred) * 100\n",
        "print('Accuracy: %0.2f' % accuracy , '%')\n",
        "#Menghitung precision dengan rumus precision = (TP) / (TP + FP)\n",
        "precision = precision_score(eks2_y_test, eks2_y_pred) * 100\n",
        "print('Precision: %0.2f' % precision , '%')\n",
        "#Menghitung recall dengan rumus recall = (TP) / (TP + FN)\n",
        "recall = recall_score(eks2_y_test, eks2_y_pred ) *100\n",
        "print('Recall: %0.2f' % recall , '%')\n",
        "#Menghitung f1 score dengan rumus f1 score = 2 * (Recall * Precission) / (Recall + Precission)\n",
        "f1 = f1_score(eks2_y_test, eks2_y_pred , '%') *100\n",
        "print('F1 score: %0.2f' % f1 , '%')\n",
        "\n",
        "#Visualisasi confusion matrix\n",
        "group_names = ['TN', 'FP', 'FN', 'TP']\n",
        "group_counts = [\"{0:0.0f}\".format(value) for value in eks2_cm.flatten()]\n",
        "group_percentages = [\"{0:.2%}\".format(value) for value in eks2_cm.flatten()/np.sum(eks2_cm)]\n",
        "labels = [f\"{v1}\\n{v2}\\n{v3}\" for v1, v2, v3 in zip(group_names, group_counts, group_percentages)]\n",
        "labels = np.asarray(labels).reshape(2, 2)\n",
        "sns.heatmap(eks2_cm, annot=labels, fmt='', cmap='Greens')"
      ],
      "execution_count": 212,
      "outputs": [
        {
          "output_type": "stream",
          "text": [
            "Accuracy: 84.60 %\n",
            "Precision: 80.58 %\n",
            "Recall: 42.11 %\n",
            "F1 score: 55.32 %\n"
          ],
          "name": "stdout"
        },
        {
          "output_type": "execute_result",
          "data": {
            "text/plain": [
              "<matplotlib.axes._subplots.AxesSubplot at 0x7fc2d0c9cd50>"
            ]
          },
          "metadata": {
            "tags": []
          },
          "execution_count": 212
        },
        {
          "output_type": "display_data",
          "data": {
            "image/png": "[encoded data removed]",
            "text/plain": [
              "<Figure size 432x288 with 2 Axes>"
            ]
          },
          "metadata": {
            "tags": [],
            "needs_background": "light"
          }
        }
      ]
    }
  ]
}